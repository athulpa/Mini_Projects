{
 "cells": [
  {
   "cell_type": "code",
   "execution_count": 1,
   "metadata": {},
   "outputs": [],
   "source": [
    "class Exp:\n",
    "    def __init__(self):\n",
    "        self.l = None\n",
    "        self.r = None\n",
    "    \n",
    "    def evl(self, NS=None):\n",
    "        pass        \n",
    "        "
   ]
  },
  {
   "cell_type": "code",
   "execution_count": 2,
   "metadata": {},
   "outputs": [],
   "source": [
    "class Const(Exp):\n",
    "    def __init__(self, val):\n",
    "        super().__init__()\n",
    "        self.val= val\n",
    "    \n",
    "    def evl(self, NS=None):\n",
    "        return self.val\n",
    "        \n",
    "class F(Const):\n",
    "    def __init__(self):\n",
    "        super().__init__(0)\n",
    "        \n",
    "class T(Const):\n",
    "    def __init__(self):\n",
    "        super().__init__(1)\n",
    "        "
   ]
  },
  {
   "cell_type": "code",
   "execution_count": 3,
   "metadata": {},
   "outputs": [],
   "source": [
    "class Var(Exp):\n",
    "    def __init__(self, Name):\n",
    "        super().__init__()\n",
    "        self.Name = Name\n",
    "    \n",
    "    def evl(self, NS):\n",
    "        return NS[self.Name]\n",
    "        "
   ]
  },
  {
   "cell_type": "code",
   "execution_count": 116,
   "metadata": {},
   "outputs": [],
   "source": [
    "# Left node is used and right node is always 'None'\n",
    "class Not(Exp):\n",
    "    def __init__(self, d):\n",
    "        self.l = d\n",
    "    \n",
    "    def evl(self, NS=None):\n",
    "        if(not self.l.evl(NS)):\n",
    "            return 1\n",
    "        else:\n",
    "            return 0\n",
    "\n",
    "class And(Exp):\n",
    "    def __init__(self, l, r):\n",
    "        self.l = l\n",
    "        self.r = r\n",
    "    \n",
    "    def evl(self, NS=None):\n",
    "        if(self.l.evl(NS) and self.r.evl(NS)):\n",
    "            return 1\n",
    "        else:\n",
    "            return 0\n",
    "\n",
    "class Or(Exp):\n",
    "    def __init__(self, l, r):\n",
    "        self.l = l\n",
    "        self.r = r\n",
    "        \n",
    "    def evl(self, NS=None):\n",
    "        if(self.l.evl(NS) or self.r.evl(NS)):\n",
    "            return 1\n",
    "        else:\n",
    "            return 0\n"
   ]
  },
  {
   "cell_type": "code",
   "execution_count": 119,
   "metadata": {},
   "outputs": [
    {
     "name": "stdout",
     "output_type": "stream",
     "text": [
      "None None True True 0\n"
     ]
    }
   ],
   "source": [
    "# Simple Sensiblity Test\n",
    "f = F()\n",
    "print(f.l, f.r, f.l is None, f.r is None, f.val)"
   ]
  },
  {
   "cell_type": "code",
   "execution_count": 121,
   "metadata": {},
   "outputs": [],
   "source": [
    "e = Exp()\n",
    "t = T()\n",
    "f = F()\n",
    "c = Const(5)\n",
    "a = And(Or(Var('x'), Var('y')), Or(Var('z'), Var('w')))\n",
    "\n",
    "vals = {'x':1,\n",
    "        'y':0,\n",
    "        'z':0,\n",
    "        'w':0 }\n"
   ]
  },
  {
   "cell_type": "code",
   "execution_count": 122,
   "metadata": {},
   "outputs": [],
   "source": [
    "vx = Var('x')\n",
    "vy = Var('y')\n",
    "nx = Not(vx)\n",
    "ny = Not(vy)\n",
    "a1 = And(nx, vy)\n",
    "a2 = And(vx, ny)\n",
    "o1 = Or(a1, a2)"
   ]
  },
  {
   "cell_type": "code",
   "execution_count": 123,
   "metadata": {},
   "outputs": [
    {
     "name": "stdout",
     "output_type": "stream",
     "text": [
      "1 0 \t 0 1 \t 1\n"
     ]
    }
   ],
   "source": [
    "print(vx.evl(vals), vy.evl(vals), '\\t', nx.evl(vals), ny.evl(vals), '\\t', o1.evl(vals))"
   ]
  },
  {
   "cell_type": "code",
   "execution_count": 124,
   "metadata": {},
   "outputs": [],
   "source": [
    "def getAns(E, varNames):\n",
    "    n = len(varNames)\n",
    "    N = 2**n\n",
    "    vals = dict()\n",
    "    for i in range(N):\n",
    "        prn_i = i\n",
    "        for j in range(n):\n",
    "            vals[varNames[j]] = i%2\n",
    "            i = i//2\n",
    "        #print('\\nIteration:', prn_i, '\\n', vals)\n",
    "        r = E.evl(NS=vals)\n",
    "        #print('RESULT: ', r)\n",
    "        if(r):\n",
    "            #print(\"GOOOOOOOT IIIIITTTT !!!\\n\\n\\n\")\n",
    "            print('\\nIteration:', prn_i, '\\n', vals)"
   ]
  },
  {
   "cell_type": "code",
   "execution_count": 125,
   "metadata": {},
   "outputs": [
    {
     "name": "stdout",
     "output_type": "stream",
     "text": [
      "\n",
      "Iteration: 6 \n",
      " {'x': 0, 'y': 1, 'z': 1}\n",
      "\n",
      "Iteration: 7 \n",
      " {'x': 1, 'y': 1, 'z': 1}\n"
     ]
    }
   ],
   "source": [
    "E = And(Or(Var('x'), Const(1)), And(Var('y'), Var('z')))\n",
    "getAns(E, ['x', 'y', 'z'])"
   ]
  },
  {
   "cell_type": "code",
   "execution_count": 126,
   "metadata": {},
   "outputs": [
    {
     "name": "stdout",
     "output_type": "stream",
     "text": [
      "\n",
      "Iteration: 13 \n",
      " {'x': 1, 'y': 0, 'z': 1, 'w': 1}\n"
     ]
    }
   ],
   "source": [
    "# Example Expression 2\n",
    "v1 = Var('x')\n",
    "v2 = Var('y')\n",
    "v3 = Var('z')\n",
    "v4 = Var('w')\n",
    "o1 = Or(Not(v1), v2)\n",
    "o2 = Or(Not(v3), Not(v4))\n",
    "o3 = Or(Not(o1), o2)\n",
    "E = And(o3, Not(o2))\n",
    "getAns(E, list('xyzw'))\n",
    "\n",
    "#vals = {'x':1, 'y':0, 'z':1, 'w':1}\n",
    "#print('Manual:', E.evl(NS=vals))\n",
    "\n",
    "\n",
    "#print(v1.evl(NS=vals))\n",
    "#print(v2.evl(NS=vals))\n",
    "#print(v3.evl(NS=vals))\n",
    "#print(v4.evl(NS=vals))\n",
    "#print(o1.evl(NS=vals))\n",
    "#print(o2.evl(NS=vals))\n",
    "#print(o3.evl(NS=vals))\n",
    "#print(E.evl(NS=vals))\n"
   ]
  },
  {
   "cell_type": "code",
   "execution_count": 127,
   "metadata": {},
   "outputs": [
    {
     "name": "stdout",
     "output_type": "stream",
     "text": [
      "\n",
      "Iteration: 2 \n",
      " {'x': 0, 'y': 1, 'z': 0}\n",
      "\n",
      "Iteration: 3 \n",
      " {'x': 1, 'y': 1, 'z': 0}\n"
     ]
    }
   ],
   "source": [
    "# Example Expression 3\n",
    "v1 = Var('x')\n",
    "v2 = Var('y')\n",
    "v3 = Var('z')\n",
    "a1 = And(v1, Not(v2))\n",
    "o1 = Or(Not(v2), v3)\n",
    "E = And(Not(o1), Not(a1))\n",
    "getAns(E, list('xyz'))"
   ]
  },
  {
   "cell_type": "code",
   "execution_count": 128,
   "metadata": {},
   "outputs": [
    {
     "name": "stdout",
     "output_type": "stream",
     "text": [
      "\n",
      "Iteration: 8 \n",
      " {'x': 0, 'y': 0, 'z': 0, 'w': 1}\n",
      "\n",
      "Iteration: 9 \n",
      " {'x': 1, 'y': 0, 'z': 0, 'w': 1}\n",
      "\n",
      "Iteration: 10 \n",
      " {'x': 0, 'y': 1, 'z': 0, 'w': 1}\n"
     ]
    }
   ],
   "source": [
    "# Example Expression 4\n",
    "v1 = Var('x')\n",
    "v2 = Var('y')\n",
    "v3 = Var('z')\n",
    "v4 = Var('w')\n",
    "a1 = And(v1, v2)\n",
    "a2 = And(Not(v3), v4)\n",
    "a3 = And(a1, a2)\n",
    "E = And(Not(a3), a2)\n",
    "getAns(E, varNames = list('xyzw'))"
   ]
  },
  {
   "cell_type": "code",
   "execution_count": 129,
   "metadata": {},
   "outputs": [
    {
     "name": "stdout",
     "output_type": "stream",
     "text": [
      "\n",
      "Iteration: 252 \n",
      " {'a': 0, 'b': 0, 'c': 1, 'd': 1, 'e': 1, 'f': 1, 'g': 1, 'h': 1}\n"
     ]
    }
   ],
   "source": [
    "# Example Expression 5\n",
    "v1 = Var('a')\n",
    "v2 = Var('b')\n",
    "v3 = Var('c')\n",
    "v4 = Var('d')\n",
    "v5 = Var('e')\n",
    "v6 = Var('f')\n",
    "v7 = Var('g')\n",
    "v8 = Var('h')\n",
    "o1 = Or(v1, v2)\n",
    "a1 = And(v3, v4)\n",
    "o2 = Or(Not(v5), Not(v6))\n",
    "a2 = And(v7, v8)\n",
    "o3 = Or(o1, Not(a1))\n",
    "o4 = Or(o2, Not(a2))\n",
    "E = And(Not(o3), Not(o4))\n",
    "getAns(E, varNames = list('abcdefgh'))\n"
   ]
  },
  {
   "cell_type": "code",
   "execution_count": 138,
   "metadata": {},
   "outputs": [],
   "source": [
    "def simplify(E, varNames, result=None):\n",
    "    if(type(E) in (Const, F, T)):\n",
    "        if(E.val):\n",
    "            return T()\n",
    "        else:\n",
    "            return F()\n",
    "    if(type(E) is Var):\n",
    "        if(result is None):\n",
    "            print(\"Unsolved Variable:\", E.Name)\n",
    "            return Var(E.Name)\n",
    "        else:\n",
    "            if(result):\n",
    "                print(\"Changing\", E.Name, \"to 1\")\n",
    "                return T()\n",
    "            else:\n",
    "                print(\"Changing\", E.Name, \"to 0\")\n",
    "                return F()\n",
    "    \n",
    "    if(type(E) is And):\n",
    "        if((result is not None) and result):\n",
    "            simple_L = simplify(E.l, varNames, result=1)\n",
    "            simple_R = simplify(E.r, varNames, result=1)            \n",
    "        else:\n",
    "            simple_L = simplify(E.l, varNames, result=None)\n",
    "            simple_R = simplify(E.r, varNames, result=None)            \n",
    "            \n",
    "        return And(simple_L, simple_R)\n",
    "    \n",
    "    elif(type(E) is Or):\n",
    "        if((result is not None) and (not result)):\n",
    "            simple_L = simplify(E.l, varNames, result=0)\n",
    "            simple_R = simplify(E.r, varNames, result=0)\n",
    "        else:\n",
    "            simple_L = simplify(E.l, varNames, result=None)\n",
    "            simple_R = simplify(E.r, varNames, result=None)\n",
    "        return Or(simple_L, simple_R)\n",
    "    \n",
    "    elif(type(E) is Not):\n",
    "        if(result is not None):\n",
    "            simple_D = simplify(E.l, varNames, result=(0 if result else 1))\n",
    "        else:\n",
    "            simple_D = simplify(E.l, varNames, result=None)\n",
    "        return Not(simple_D)\n"
   ]
  },
  {
   "cell_type": "code",
   "execution_count": 140,
   "metadata": {},
   "outputs": [
    {
     "name": "stdout",
     "output_type": "stream",
     "text": [
      "Unsolved Variable: x\n",
      "Unsolved Variable: y\n",
      "Unsolved Variable: x\n",
      "Unsolved Variable: y\n",
      "\n",
      "Iteration: 1 \n",
      " {'x': 1, 'y': 0}\n",
      "\n",
      "Iteration: 2 \n",
      " {'x': 0, 'y': 1}\n"
     ]
    }
   ],
   "source": [
    "# Example Expression 6 - XOR logic\n",
    "v1 = Var('x')\n",
    "v2 = Var('y')\n",
    "a1 = And(Not(v1), v2)\n",
    "a2 = And(v1, Not(v2))\n",
    "E = Or(a1, a2)\n",
    "\n",
    "vals = list('xy')\n",
    "S = simplify(E, vals, result=1)\n",
    "\n",
    "getAns(S, vals)"
   ]
  },
  {
   "cell_type": "code",
   "execution_count": 110,
   "metadata": {},
   "outputs": [
    {
     "name": "stdout",
     "output_type": "stream",
     "text": [
      "Changing a to 0\n",
      "Changing b to 0\n",
      "Changing c to 1\n",
      "Changing d to 1\n",
      "Changing e to 1\n",
      "Changing f to 1\n",
      "Changing g to 1\n",
      "Changing h to 1\n"
     ]
    }
   ],
   "source": [
    "# Example Expression 7\n",
    "v1 = Var('a')\n",
    "v2 = Var('b')\n",
    "v3 = Var('c')\n",
    "v4 = Var('d')\n",
    "v5 = Var('e')\n",
    "v6 = Var('f')\n",
    "v7 = Var('g')\n",
    "v8 = Var('h')\n",
    "o1 = Or(v1, v2)\n",
    "a1 = And(v3, v4)\n",
    "a2 = And(v5, v6)\n",
    "o2 = Or(Not(v7), Not(v8))\n",
    "a3 = And(Not(o1), a1)\n",
    "o3 = Or(Not(a2), o2)\n",
    "E = And(a3, Not(o3))\n",
    "\n",
    "vals = list('abcdefgh')\n",
    "S = simplify(E, vals, result=1)\n"
   ]
  },
  {
   "cell_type": "code",
   "execution_count": null,
   "metadata": {},
   "outputs": [],
   "source": []
  }
 ],
 "metadata": {
  "kernelspec": {
   "display_name": "Python 3",
   "language": "python",
   "name": "python3"
  },
  "language_info": {
   "codemirror_mode": {
    "name": "ipython",
    "version": 3
   },
   "file_extension": ".py",
   "mimetype": "text/x-python",
   "name": "python",
   "nbconvert_exporter": "python",
   "pygments_lexer": "ipython3",
   "version": "3.7.7"
  }
 },
 "nbformat": 4,
 "nbformat_minor": 2
}
