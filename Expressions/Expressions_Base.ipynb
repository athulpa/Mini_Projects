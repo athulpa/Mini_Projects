{
 "cells": [
  {
   "cell_type": "code",
   "execution_count": 38,
   "metadata": {},
   "outputs": [],
   "source": [
    "class Exp:\n",
    "    def __init__(self):\n",
    "        self.l = None\n",
    "        self.r = None\n",
    "    \n",
    "    def evl(self, NS=None):\n",
    "        pass        \n",
    "        "
   ]
  },
  {
   "cell_type": "code",
   "execution_count": 39,
   "metadata": {},
   "outputs": [],
   "source": [
    "class Const(Exp):\n",
    "    def __init__(self, val):\n",
    "        super().__init__()\n",
    "        self.val= val\n",
    "    \n",
    "    def evl(self, NS=None):\n",
    "        return self.val\n",
    "        \n",
    "class F(Const):\n",
    "    def __init__(self):\n",
    "        super().__init__(0)\n",
    "        \n",
    "class T(Const):\n",
    "    def __init__(self):\n",
    "        super().__init__(1)\n",
    "        "
   ]
  },
  {
   "cell_type": "code",
   "execution_count": 40,
   "metadata": {},
   "outputs": [],
   "source": [
    "class Var(Exp):\n",
    "    def __init__(self, Name):\n",
    "        super().__init__()\n",
    "        self.Name = Name\n",
    "    \n",
    "    def evl(self, NS):\n",
    "        return NS[self.Name]\n",
    "        "
   ]
  },
  {
   "cell_type": "code",
   "execution_count": 41,
   "metadata": {},
   "outputs": [],
   "source": [
    "# Left node is used and right node is always 'None'\n",
    "class Not(Exp):\n",
    "    def __init__(self, d):\n",
    "        self.l = d\n",
    "    \n",
    "    def evl(self, NS=None):\n",
    "        if(not self.l.evl(NS)):\n",
    "            return 1\n",
    "        else:\n",
    "            return 0\n",
    "\n",
    "class And(Exp):\n",
    "    def __init__(self, l, r):\n",
    "        self.l = l\n",
    "        self.r = r\n",
    "    \n",
    "    def evl(self, NS=None):\n",
    "        if(self.l.evl(NS) and self.r.evl(NS)):\n",
    "            return 1\n",
    "        else:\n",
    "            return 0\n",
    "\n",
    "class Or(Exp):\n",
    "    def __init__(self, l, r):\n",
    "        self.l = l\n",
    "        self.r = r\n",
    "        \n",
    "    def evl(self, NS=None):\n",
    "        if(self.l.evl(NS) or self.r.evl(NS)):\n",
    "            return 1\n",
    "        else:\n",
    "            return 0\n"
   ]
  },
  {
   "cell_type": "code",
   "execution_count": 42,
   "metadata": {},
   "outputs": [
    {
     "name": "stdout",
     "output_type": "stream",
     "text": [
      "None None True True 0\n"
     ]
    }
   ],
   "source": [
    "f = F()\n",
    "print(f.l, f.r, f.l is None, f.r is None, f.val)"
   ]
  },
  {
   "cell_type": "code",
   "execution_count": 43,
   "metadata": {},
   "outputs": [],
   "source": [
    "e = Exp()\n",
    "t = T()\n",
    "f = F()\n",
    "c = Const(5)\n",
    "a = And(Or(Var('x'), Var('y')), Or(Var('z'), Var('w')))\n",
    "\n",
    "vals = {'x':1,\n",
    "        'y':0,\n",
    "        'z':0,\n",
    "        'w':0 }\n",
    "\n"
   ]
  },
  {
   "cell_type": "code",
   "execution_count": 44,
   "metadata": {},
   "outputs": [],
   "source": [
    "vx = Var('x')\n",
    "vy = Var('y')\n",
    "nx = Not(vx)\n",
    "ny = Not(vy)\n",
    "a1 = And(nx, vy)\n",
    "a2 = And(vx, ny)\n",
    "o1 = Or(a1, a2)"
   ]
  },
  {
   "cell_type": "code",
   "execution_count": 45,
   "metadata": {},
   "outputs": [
    {
     "name": "stdout",
     "output_type": "stream",
     "text": [
      "1 0 \t 0 1 \t 1\n"
     ]
    }
   ],
   "source": [
    "print(vx.evl(vals), vy.evl(vals), '\\t', nx.evl(vals), ny.evl(vals), '\\t', o1.evl(vals))"
   ]
  },
  {
   "cell_type": "code",
   "execution_count": null,
   "metadata": {},
   "outputs": [],
   "source": [
    "def getAns(E, varNames):\n",
    "    "
   ]
  }
 ],
 "metadata": {
  "kernelspec": {
   "display_name": "Python 3",
   "language": "python",
   "name": "python3"
  },
  "language_info": {
   "codemirror_mode": {
    "name": "ipython",
    "version": 3
   },
   "file_extension": ".py",
   "mimetype": "text/x-python",
   "name": "python",
   "nbconvert_exporter": "python",
   "pygments_lexer": "ipython3",
   "version": "3.7.7"
  }
 },
 "nbformat": 4,
 "nbformat_minor": 2
}
